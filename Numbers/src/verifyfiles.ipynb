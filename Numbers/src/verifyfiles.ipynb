{
 "cells": [
  {
   "cell_type": "code",
   "execution_count": 1,
   "id": "40e425b6",
   "metadata": {},
   "outputs": [
    {
     "name": "stdout",
     "output_type": "stream",
     "text": [
      "Model type: dict\n",
      "Has predict method: False\n",
      "Encoder type: LabelEncoder\n"
     ]
    }
   ],
   "source": [
    "import pickle\n",
    "import os\n",
    "\n",
    "MODEL_NAME = '/Users/ashishsingh/Desktop/Sign/models/best_model.p'\n",
    "LABEL_ENCODER_NAME = '/Users/ashishsingh/Desktop/Sign/models/labels.p'\n",
    "\n",
    "# Check model\n",
    "if os.path.exists(MODEL_NAME):\n",
    "    with open(MODEL_NAME, 'rb') as f:\n",
    "        model = pickle.load(f)\n",
    "    print(f\"Model type: {type(model).__name__}\")  # e.g., 'RandomForestClassifier'\n",
    "    print(f\"Has predict method: {hasattr(model, 'predict')}\")  # Should be True\n",
    "else:\n",
    "    print(\"Model file not found!\")\n",
    "\n",
    "# Check encoder\n",
    "if os.path.exists(LABEL_ENCODER_NAME):\n",
    "    with open(LABEL_ENCODER_NAME, 'rb') as f:\n",
    "        le = pickle.load(f)\n",
    "    print(f\"Encoder type: {type(le).__name__}\")  # e.g., 'LabelEncoder'\n",
    "else:\n",
    "    print(\"Encoder file not found!\")"
   ]
  },
  {
   "cell_type": "code",
   "execution_count": 2,
   "id": "22658c1c",
   "metadata": {},
   "outputs": [],
   "source": [
    "import os\n",
    "\n",
    "# Global constant for the main directory (update this to your actual path)\n",
    "MAIN_DIR = '/Users/ashishsingh/Desktop/dataset/character'  # Change as needed\n",
    "\n",
    "def rename_images_in_subfolders(main_dir):\n",
    "    \"\"\"\n",
    "    Renames images in each subfolder to 'subfoldername_000.ext', starting from 0.\n",
    "    Only renames .jpg, .png, .jpeg files.\n",
    "    \"\"\"\n",
    "    for subdir in os.listdir(main_dir):\n",
    "        sub_path = os.path.join(main_dir, subdir)\n",
    "        if subdir.startswith('.') or not os.path.isdir(sub_path):\n",
    "            continue\n",
    "        \n",
    "        images = [f for f in os.listdir(sub_path) if f.lower().endswith(('.jpg', '.png', '.jpeg'))]\n",
    "        images.sort()  # Optional: Sort for consistent order\n",
    "        \n",
    "        for i, img in enumerate(images, 0):  # Start from 0\n",
    "            old_path = os.path.join(sub_path, img)\n",
    "            ext = os.path.splitext(img)[1]\n",
    "            new_name = f\"{i:03d}{ext}\"\n",
    "            new_path = os.path.join(sub_path, new_name)\n",
    "            \n",
    "            if not os.path.exists(new_path):\n",
    "                os.rename(old_path, new_path)\n",
    "\n",
    "if __name__ == \"__main__\":\n",
    "    rename_images_in_subfolders(MAIN_DIR)"
   ]
  },
  {
   "cell_type": "code",
   "execution_count": null,
   "id": "7960b6b2",
   "metadata": {},
   "outputs": [],
   "source": []
  }
 ],
 "metadata": {
  "kernelspec": {
   "display_name": "venv",
   "language": "python",
   "name": "python3"
  },
  "language_info": {
   "codemirror_mode": {
    "name": "ipython",
    "version": 3
   },
   "file_extension": ".py",
   "mimetype": "text/x-python",
   "name": "python",
   "nbconvert_exporter": "python",
   "pygments_lexer": "ipython3",
   "version": "3.12.11"
  }
 },
 "nbformat": 4,
 "nbformat_minor": 5
}
